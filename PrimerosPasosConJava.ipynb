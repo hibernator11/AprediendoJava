{
 "cells": [
  {
   "cell_type": "markdown",
   "metadata": {},
   "source": [
    "<img src=\"images/logo_ua.jpg\" width=\"200\" style=\"float:left\">\n",
    "<img src=\"images/logo_dlsi.png\">"
   ]
  },
  {
   "cell_type": "markdown",
   "metadata": {},
   "source": [
    "# Primero pasos con Java"
   ]
  },
  {
   "cell_type": "markdown",
   "metadata": {},
   "source": [
    "Este tutorial se puede utilizar para comenzar a trabajar con Java como lenguaje de programación."
   ]
  },
  {
   "cell_type": "markdown",
   "metadata": {},
   "source": [
    "## Introducción"
   ]
  },
  {
   "cell_type": "markdown",
   "metadata": {},
   "source": [
    "Java es un lenguaje de programación más populares y nació en el año 1995 con Sun Microsystem y posteriormente fue adquirido por Oracle Corporation. Para su ejecución requiere de la máquina virtual que es independiente del sistema donde se esté ejecutando. [Más info](https://es.wikipedia.org/wiki/Java_(lenguaje_de_programaci%C3%B3n)\n",
    "\n",
    "Java requiere el JDK (Java Development Kit, en español Herramientas de desarrollo para Java) instalado para poder desarrollar aplicaciones en Java. El JDK es el conjunto de librerías, paquetes, clases, métodos, etc. que incluye javac para convertir el código fuente (.java) en bytecode (.class) que será interpretado y ejecutado por la JVM (Java Virtual Machine, en español Máquina Virtual de Java). También incluye javadoc para generar la documentación de nuestro código.\n",
    "\n",
    "El JDK incluye además el JRE (Java Runtime Environment, en español Entorno de Ejecución de Java), que realmente ejecuta los programas de Java. Es posible instalar el JRE por separado, pero el JDK lo incluye."
   ]
  },
  {
   "cell_type": "markdown",
   "metadata": {},
   "source": [
    "## Comentarios en Java\n",
    "Los comentarios sirven para documentar nuestro código. Java nos permite crear comentarios de una única línea y de varias."
   ]
  },
  {
   "cell_type": "code",
   "execution_count": 2,
   "metadata": {},
   "outputs": [],
   "source": [
    "// Esto es un comentario de una linea\n",
    "\n",
    "/* Esto es \n",
    "   un comentario\n",
    "   de varias líneas\n",
    "*/"
   ]
  },
  {
   "cell_type": "markdown",
   "metadata": {},
   "source": [
    "## Programa en Java básico\n",
    "La estructura básica de un programa desarrollado usando Java es la siguiente. En el ejemplo podemos observar como se crea una clase pública, es decir, que tendrás acceso a esta clase desde cualquier parte del código. El método main es un método que permite la ejecución del programa."
   ]
  },
  {
   "cell_type": "code",
   "execution_count": 5,
   "metadata": {},
   "outputs": [],
   "source": [
    "public class NombreClase {\n",
    "     public static void main (String args[]){\n",
    "        // instrucciones\n",
    "     }\n",
    "}"
   ]
  },
  {
   "cell_type": "markdown",
   "metadata": {},
   "source": [
    "## Objetos y clases\n",
    "La base de la Programación Orientada a Objetos es el objeto que a su vez tiene una serie de características y comportamiento. Una clase representa el conjunto de objetos que comparten características y comportamiento. \n",
    "En Java, las clases contienen atributos y métodos. Para cada atributo se crea un método get y set para poder gestionarlos. Además, cada clase cuentra con uno o varios constructores mediante los cuales podemos crear instancias de las clases. "
   ]
  },
  {
   "cell_type": "markdown",
   "metadata": {},
   "source": [
    "### Clases en Java\n",
    "Una clase en Java comienza con la palabra reservada class y a continuación los atributos y métodos. La definición de una clase sigue la siguiente estructura:"
   ]
  },
  {
   "cell_type": "markdown",
   "metadata": {},
   "source": [
    "```java\n",
    "class <clase>  {\n",
    "   //declaración de atributos\n",
    "  [visibilidad] [modificadores] <tipo> <atributo> [= valor];\n",
    "  ...\n",
    "\n",
    "  //declaración de constructor\n",
    "  public <clase>(<argumentos>) {\n",
    "    <instrucciones>;\n",
    "  }\n",
    "\n",
    "  //declaración de métodos\n",
    "  [visibilidad] [modificadores] <tipo> <método>(<argumentos>) {\n",
    "    <instrucciones>;\n",
    "  }\n",
    "  ...\n",
    "}```"
   ]
  },
  {
   "cell_type": "markdown",
   "metadata": {},
   "source": [
    "El siguiente ejemplo muestra una clase para describir libros."
   ]
  },
  {
   "cell_type": "code",
   "execution_count": 24,
   "metadata": {},
   "outputs": [
    {
     "ename": "CompilationException",
     "evalue": "",
     "output_type": "error",
     "traceback": [
      "\u001b[1m\u001b[30m|   \u001b[1m\u001b[30m\u001b[0m\u001b[1m\u001b[30m\u001b[41m\u001b[0m\u001b[1m\u001b[30mpackage misClases.Libro;\u001b[0m",
      "\u001b[1m\u001b[31millegal start of expression\u001b[0m",
      ""
     ]
    }
   ],
   "source": [
    "//Ejemplo de clase para almacenar libros\n",
    "public class Libro\n",
    "{\n",
    "    //Atributos de la clase\n",
    "    private int identificador;\n",
    "    private String autor;\n",
    "    private String titulo;\n",
    "\n",
    "    //Constructor con el mismo nombre de la clase\n",
    "    public Libro(){}\n",
    "    \n",
    "    //Constructor con parametros\n",
    "    public Libro(String ptitulo, String pautor){\n",
    "        this.titulo = ptitulo;\n",
    "        this.autor = pautor;\n",
    "    }\n",
    "    \n",
    "    public void setAutor(String pautor)\n",
    "    {\n",
    "        this.autor = pautor;\n",
    "    }\n",
    "    \n",
    "    public void setTitulo(String ptitulo)\n",
    "    {\n",
    "        this.titulo = ptitulo;\n",
    "    }\n",
    "\n",
    "    public String getAutor()\n",
    "    {\n",
    "        return autor;\n",
    "    }\n",
    "\n",
    "    public String getTitulo()\n",
    "    {\n",
    "        return titulo;\n",
    "    }\n",
    "    \n",
    "    public static String metodoEstatico(){\n",
    "        return \"No necesito una instancia para ejecutarme\";\n",
    "    }\n",
    "}"
   ]
  },
  {
   "cell_type": "markdown",
   "metadata": {},
   "source": [
    "Una vez tenemos declarada la clase, podemos instanciar objetos llamando al constructor con la instrucción new:"
   ]
  },
  {
   "cell_type": "code",
   "execution_count": 20,
   "metadata": {},
   "outputs": [],
   "source": [
    "// declaramos los objetos\n",
    "Libro libro1 = new Libro(\"Don Quijote de la Mancha\", \"Miguel de Cervantes Saavedra\");\n",
    "Libro libro2 = new Libro(\"La Galatea\", \"Miguel de Cervantes Saavedra\");"
   ]
  },
  {
   "cell_type": "markdown",
   "metadata": {},
   "source": [
    "Y podemos llamar a los métodos:"
   ]
  },
  {
   "cell_type": "code",
   "execution_count": 22,
   "metadata": {},
   "outputs": [
    {
     "name": "stdout",
     "output_type": "stream",
     "text": [
      "Don Quijote de la Mancha - Miguel de Cervantes Saavedra\n",
      "La Galatea - Miguel de Cervantes Saavedra\n"
     ]
    }
   ],
   "source": [
    "// recuperamos los atributos de los libros y los mostramos por pantalla\n",
    "System.out.println(libro1.getTitulo() + \" - \" + libro1.getAutor());\n",
    "System.out.println(libro2.getTitulo() + \" - \" + libro2.getAutor());"
   ]
  },
  {
   "cell_type": "markdown",
   "metadata": {},
   "source": [
    "Los métodos pueden ser declarados como estáticos lo que significa que no requiere de una instancia para poder ejecutarse"
   ]
  },
  {
   "cell_type": "code",
   "execution_count": 23,
   "metadata": {},
   "outputs": [
    {
     "name": "stdout",
     "output_type": "stream",
     "text": [
      "No necesito una instancia para ejecutarme\n"
     ]
    }
   ],
   "source": [
    "System.out.println(Libro.metodoEstatico());"
   ]
  },
  {
   "cell_type": "markdown",
   "metadata": {},
   "source": [
    "En el siguiente ejemplo vemos un programa completo."
   ]
  },
  {
   "cell_type": "code",
   "execution_count": 25,
   "metadata": {},
   "outputs": [],
   "source": [
    "public class MiPrograma\n",
    "{\n",
    "    public static void main(String[] args)\n",
    "    {\n",
    "        //Creamos un animal cuyo nombré será Falco\n",
    "        Libro miLibro = new Libro(\"El viejo celoso\", \"Miguel de Cervantes\");\n",
    "        \n",
    "        //Mostraremos el titulo del libro por pantalla\n",
    "        System.out.println(\"El titulo es: \" + miLibro.getTitulo());\n",
    "    }\n",
    "}"
   ]
  },
  {
   "cell_type": "markdown",
   "metadata": {},
   "source": [
    "## Salida de datos\n",
    "Aunque Java proporciona numerosas librerías para guardar los logs en ficheros, la forma más sencilla es mostrarlo por pantalla la información."
   ]
  },
  {
   "cell_type": "code",
   "execution_count": 3,
   "metadata": {},
   "outputs": [
    {
     "name": "stdout",
     "output_type": "stream",
     "text": [
      "Hello World\n"
     ]
    }
   ],
   "source": [
    "System.out.println(\"Hello World\");"
   ]
  },
  {
   "cell_type": "markdown",
   "metadata": {},
   "source": [
    "## Paquetes\n",
    "Los paquetes en Java nos permiten agrupar los componentes de nuestra aplicación que estén relacionados entre si. El paquete se declara antes de cualquier otra cosa, es decir, es la primera línea de nuestro código en una clase, por ejemplo. A continuación, añadiremos los imports, clases, etc."
   ]
  },
  {
   "cell_type": "code",
   "execution_count": 27,
   "metadata": {},
   "outputs": [],
   "source": [
    "//package ejemplo.de.paquete;\n",
    "\n",
    "//public class mi_clase\n",
    "//{\n",
    "\n",
    "//}"
   ]
  },
  {
   "cell_type": "markdown",
   "metadata": {},
   "source": [
    "## Modificadores de acceso\n",
    "Los modificadores de acceso public, protected, default y private en Java nos proporcionan el encapsulamiento en Java que tiene como objetivo gestionar el acceso a los datos de una instancia. El modificador por defecto es default y permite el acceso a la clase como a las clases del mismo paquete. Si un atributo es privado, debemos crear los métodos set y get para poder manipular sus valores."
   ]
  },
  {
   "cell_type": "code",
   "execution_count": 29,
   "metadata": {},
   "outputs": [],
   "source": [
    "public class Revista\n",
    "{\n",
    "    private int numeroArticulos; //Este atributo es privado\n",
    "    private String titulo; //Contador de registro\n",
    "\n",
    "    public void setNumeroArticulos(int n)\n",
    "    {\n",
    "        numeroArticulos = n;//Establecemos el valor del atributo\n",
    "    }\n",
    "\n",
    "    public int getNumeroArticulos()\n",
    "    {\n",
    "        return numeroArticulos;//Retornamos el valor actual del atributo\n",
    "    }\n",
    "}"
   ]
  },
  {
   "cell_type": "markdown",
   "metadata": {},
   "source": [
    "## Variables y tipos de datos \n",
    "Una variable tiene un tipo específico y alberga un valor que puede ser inicializado y modificado durante la ejecución del programa en Java."
   ]
  },
  {
   "cell_type": "code",
   "execution_count": null,
   "metadata": {},
   "outputs": [],
   "source": [
    "int a, b, c; \n",
    "flotar pi; \n",
    "doble d; \n",
    "char a;"
   ]
  },
  {
   "cell_type": "markdown",
   "metadata": {},
   "source": [
    "## Condicionales"
   ]
  },
  {
   "cell_type": "markdown",
   "metadata": {},
   "source": [
    "## Bucles"
   ]
  },
  {
   "cell_type": "markdown",
   "metadata": {},
   "source": [
    "## Funciones"
   ]
  }
 ],
 "metadata": {
  "kernelspec": {
   "display_name": "Java",
   "language": "java",
   "name": "java"
  },
  "language_info": {
   "codemirror_mode": "java",
   "file_extension": ".jshell",
   "mimetype": "text/x-java-source",
   "name": "Java",
   "pygments_lexer": "java",
   "version": "15-ea+16-681"
  }
 },
 "nbformat": 4,
 "nbformat_minor": 2
}
