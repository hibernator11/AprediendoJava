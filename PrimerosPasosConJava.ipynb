{
 "cells": [
  {
   "cell_type": "markdown",
   "metadata": {},
   "source": [
    "<img src=\"images/logo_ua.jpg\" width=\"200\" style=\"float:left\">\n",
    "<img src=\"images/logo_dlsi.png\">"
   ]
  },
  {
   "cell_type": "markdown",
   "metadata": {},
   "source": [
    "# Primero pasos con Java"
   ]
  },
  {
   "cell_type": "markdown",
   "metadata": {},
   "source": [
    "Este tutorial se puede utilizar para comenzar a trabajar con Java como lenguaje de programación."
   ]
  },
  {
   "cell_type": "markdown",
   "metadata": {},
   "source": [
    "## Introducción"
   ]
  },
  {
   "cell_type": "markdown",
   "metadata": {},
   "source": [
    "Java es un lenguaje de programación más populares y nació en el año 1995 con Sun Microsystem y posteriormente fue adquirido por Oracle Corporation. Para su ejecución requiere de la máquina virtual que es independiente del sistema donde se esté ejecutando. [Más info](https://es.wikipedia.org/wiki/Java_(lenguaje_de_programaci%C3%B3n)\n",
    "\n",
    "Java requiere el JDK (Java Development Kit, en español Herramientas de desarrollo para Java) instalado para poder desarrollar aplicaciones en Java. El JDK es el conjunto de librerías, paquetes, clases, métodos, etc. que incluye javac para convertir el código fuente (.java) en bytecode (.class) que será interpretado y ejecutado por la JVM (Java Virtual Machine, en español Máquina Virtual de Java). También incluye javadoc para generar la documentación de nuestro código.\n",
    "\n",
    "El JDK incluye además el JRE (Java Runtime Environment, en español Entorno de Ejecución de Java), que realmente ejecuta los programas de Java. Es posible instalar el JRE por separado, pero el JDK lo incluye."
   ]
  },
  {
   "cell_type": "markdown",
   "metadata": {},
   "source": [
    "## Comentarios en Java\n",
    "Los comentarios sirven para documentar nuestro código. Java nos permite crear comentarios de una única línea y de varias."
   ]
  },
  {
   "cell_type": "code",
   "execution_count": 2,
   "metadata": {},
   "outputs": [],
   "source": [
    "// Esto es un comentario de una linea\n",
    "\n",
    "/* Esto es \n",
    "   un comentario\n",
    "   de varias líneas\n",
    "*/"
   ]
  },
  {
   "cell_type": "markdown",
   "metadata": {},
   "source": [
    "## Programa en Java básico\n",
    "La estructura básica de un programa desarrollado usando Java es la siguiente. En el ejemplo podemos observar como se crea una clase pública, es decir, que tendrás acceso a esta clase desde cualquier parte del código. El método main es un método que permite la ejecución del programa."
   ]
  },
  {
   "cell_type": "code",
   "execution_count": 5,
   "metadata": {},
   "outputs": [],
   "source": [
    "public class NombreClase {\n",
    "     public static void main (String args[]){\n",
    "        // instrucciones\n",
    "     }\n",
    "}"
   ]
  },
  {
   "cell_type": "markdown",
   "metadata": {},
   "source": [
    "## Objetos y clases\n",
    "La base de la Programación Orientada a Objetos es el objeto que a su vez tiene una serie de características y comportamiento. Una clase representa el conjunto de objetos que comparten características y comportamiento. \n",
    "En Java, las clases contienen atributos y métodos.  "
   ]
  },
  {
   "cell_type": "markdown",
   "metadata": {},
   "source": [
    "### Clases en Java\n",
    "Una clase en Java comienza con la palabra reservada class y a continuación los atributos y métodos. La definición de una clase sigue la siguiente estructura:"
   ]
  },
  {
   "cell_type": "markdown",
   "metadata": {},
   "source": [
    "```java\n",
    "class <clase>  {\n",
    "   //declaración de atributos\n",
    "  [visibilidad] [modificadores] <tipo> <atributo> [= valor];\n",
    "  ...\n",
    "\n",
    "  //declaración de constructor\n",
    "  public <clase>(<argumentos>) {\n",
    "    <instrucciones>;\n",
    "  }\n",
    "\n",
    "  //declaración de métodos\n",
    "  [visibilidad] [modificadores] <tipo> <método>(<argumentos>) {\n",
    "    <instrucciones>;\n",
    "  }\n",
    "  ...\n",
    "}```"
   ]
  },
  {
   "cell_type": "markdown",
   "metadata": {},
   "source": [
    "Los métodos pueden ser declarados como estáticos lo que significa que no requiere de una instacia para poder ejecutarse"
   ]
  },
  {
   "cell_type": "markdown",
   "metadata": {},
   "source": [
    "## Salida de datos"
   ]
  },
  {
   "cell_type": "code",
   "execution_count": 3,
   "metadata": {},
   "outputs": [
    {
     "name": "stdout",
     "output_type": "stream",
     "text": [
      "Hello World\n"
     ]
    }
   ],
   "source": [
    "System.out.println(\"Hello World\");"
   ]
  },
  {
   "cell_type": "markdown",
   "metadata": {},
   "source": [
    "## Paquetes"
   ]
  },
  {
   "cell_type": "markdown",
   "metadata": {},
   "source": [
    "## Variables y tipos de datos \n",
    "Una variable tiene un tipo específico y alberga un valor que puede ser inicializado y modificado durante la ejecución del programa en Java."
   ]
  },
  {
   "cell_type": "code",
   "execution_count": null,
   "metadata": {},
   "outputs": [],
   "source": [
    "int a, b, c; \n",
    "flotar pi; \n",
    "doble d; \n",
    "char a;"
   ]
  },
  {
   "cell_type": "markdown",
   "metadata": {},
   "source": [
    "## Condicionales"
   ]
  },
  {
   "cell_type": "markdown",
   "metadata": {},
   "source": [
    "## Bucles"
   ]
  },
  {
   "cell_type": "markdown",
   "metadata": {},
   "source": [
    "## Funciones"
   ]
  }
 ],
 "metadata": {
  "kernelspec": {
   "display_name": "Java",
   "language": "java",
   "name": "java"
  },
  "language_info": {
   "codemirror_mode": "java",
   "file_extension": ".jshell",
   "mimetype": "text/x-java-source",
   "name": "Java",
   "pygments_lexer": "java",
   "version": "15-ea+16-681"
  }
 },
 "nbformat": 4,
 "nbformat_minor": 2
}
