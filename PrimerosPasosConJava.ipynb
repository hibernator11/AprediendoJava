{
 "cells": [
  {
   "cell_type": "markdown",
   "metadata": {},
   "source": [
    "<img src=\"images/logo_ua.jpg\" width=\"100\" style=\"float:left\">\n",
    "<img src=\"images/logo_dlsi.png\">"
   ]
  },
  {
   "cell_type": "markdown",
   "metadata": {},
   "source": [
    "# Primero pasos con Java"
   ]
  },
  {
   "cell_type": "markdown",
   "metadata": {},
   "source": [
    "<img src=\"images/java.png\" width=\"100\" style=\"float:left\"> Este tutorial se puede utilizar para comenzar a trabajar con Java como lenguaje de programación. Veremos una pequeña introducción y cada uno de los puntos más relevantes para empezar a programar con Java."
   ]
  },
  {
   "cell_type": "markdown",
   "metadata": {},
   "source": [
    "## Introducción"
   ]
  },
  {
   "cell_type": "markdown",
   "metadata": {},
   "source": [
    "Java es un lenguaje de programación más populares y nació en el año 1995 con Sun Microsystem y posteriormente fue adquirido por Oracle Corporation. Para su ejecución requiere de la máquina virtual que es independiente del sistema donde se esté ejecutando. [Más info](https://es.wikipedia.org/wiki/Java_(lenguaje_de_programaci%C3%B3n)\n",
    "\n",
    "Java requiere el JDK (Java Development Kit, en español Herramientas de desarrollo para Java) instalado para poder desarrollar aplicaciones en Java. El JDK es el conjunto de librerías, paquetes, clases, métodos, etc. que incluye javac para convertir el código fuente (.java) en bytecode (.class) que será interpretado y ejecutado por la JVM (Java Virtual Machine, en español Máquina Virtual de Java). También incluye javadoc para generar la documentación de nuestro código.\n",
    "\n",
    "El JDK incluye además el JRE (Java Runtime Environment, en español Entorno de Ejecución de Java), que realmente ejecuta los programas de Java. Es posible instalar el JRE por separado, pero el JDK lo incluye."
   ]
  },
  {
   "cell_type": "markdown",
   "metadata": {},
   "source": [
    "## Comentarios en Java\n",
    "Los comentarios sirven para documentar nuestro código. Java nos permite crear comentarios de una única línea y de varias."
   ]
  },
  {
   "cell_type": "code",
   "execution_count": 1,
   "metadata": {},
   "outputs": [],
   "source": [
    "// Esto es un comentario de una linea\n",
    "\n",
    "/* Esto es \n",
    "   un comentario\n",
    "   de varias líneas\n",
    "*/"
   ]
  },
  {
   "cell_type": "markdown",
   "metadata": {},
   "source": [
    "## Programa en Java básico\n",
    "La estructura básica de un programa desarrollado usando Java es la siguiente. En el ejemplo podemos observar como se crea una clase pública, es decir, que tendrás acceso a esta clase desde cualquier parte del código. El método main es un método que permite la ejecución del programa."
   ]
  },
  {
   "cell_type": "code",
   "execution_count": 2,
   "metadata": {},
   "outputs": [],
   "source": [
    "public class NombreClase {\n",
    "     public static void main (String args[]){\n",
    "        // instrucciones\n",
    "     }\n",
    "}"
   ]
  },
  {
   "cell_type": "markdown",
   "metadata": {},
   "source": [
    "## Objetos y clases\n",
    "La base de la Programación Orientada a Objetos es el objeto que a su vez tiene una serie de características y comportamiento. Una clase representa el conjunto de objetos que comparten características y comportamiento. \n",
    "En Java, las clases contienen atributos y métodos. Para cada atributo se crea un método get y set para poder gestionarlos. Además, cada clase cuentra con uno o varios constructores mediante los cuales podemos crear instancias de las clases. "
   ]
  },
  {
   "cell_type": "markdown",
   "metadata": {},
   "source": [
    "### Clases en Java\n",
    "Una clase en Java comienza con la palabra reservada class y a continuación los atributos y métodos. La definición de una clase sigue la siguiente estructura:"
   ]
  },
  {
   "cell_type": "markdown",
   "metadata": {},
   "source": [
    "```java\n",
    "class <clase>  {\n",
    "   //declaración de atributos\n",
    "  [visibilidad] [modificadores] <tipo> <atributo> [= valor];\n",
    "  ...\n",
    "\n",
    "  //declaración de constructor\n",
    "  public <clase>(<argumentos>) {\n",
    "    <instrucciones>;\n",
    "  }\n",
    "\n",
    "  //declaración de métodos\n",
    "  [visibilidad] [modificadores] <tipo> <método>(<argumentos>) {\n",
    "    <instrucciones>;\n",
    "  }\n",
    "  ...\n",
    "}```"
   ]
  },
  {
   "cell_type": "markdown",
   "metadata": {},
   "source": [
    "El siguiente ejemplo muestra una clase para describir libros."
   ]
  },
  {
   "cell_type": "code",
   "execution_count": 3,
   "metadata": {},
   "outputs": [],
   "source": [
    "//Ejemplo de clase para almacenar libros\n",
    "public class Libro\n",
    "{\n",
    "    //Atributos de la clase\n",
    "    private int identificador;\n",
    "    private String autor;\n",
    "    private String titulo;\n",
    "\n",
    "    //Constructor con el mismo nombre de la clase\n",
    "    public Libro(){}\n",
    "    \n",
    "    //Constructor con parametros\n",
    "    public Libro(String ptitulo, String pautor){\n",
    "        this.titulo = ptitulo;\n",
    "        this.autor = pautor;\n",
    "    }\n",
    "    \n",
    "    public void setAutor(String pautor)\n",
    "    {\n",
    "        this.autor = pautor;\n",
    "    }\n",
    "    \n",
    "    public void setTitulo(String ptitulo)\n",
    "    {\n",
    "        this.titulo = ptitulo;\n",
    "    }\n",
    "\n",
    "    public String getAutor()\n",
    "    {\n",
    "        return autor;\n",
    "    }\n",
    "\n",
    "    public String getTitulo()\n",
    "    {\n",
    "        return titulo;\n",
    "    }\n",
    "    \n",
    "    public static String metodoEstatico(){\n",
    "        return \"No necesito una instancia para ejecutarme\";\n",
    "    }\n",
    "}"
   ]
  },
  {
   "cell_type": "markdown",
   "metadata": {},
   "source": [
    "Una vez tenemos declarada la clase, podemos instanciar objetos llamando al constructor con la instrucción new:"
   ]
  },
  {
   "cell_type": "code",
   "execution_count": 4,
   "metadata": {},
   "outputs": [],
   "source": [
    "// declaramos los objetos\n",
    "Libro libro1 = new Libro(\"Don Quijote de la Mancha\", \"Miguel de Cervantes Saavedra\");\n",
    "Libro libro2 = new Libro(\"La Galatea\", \"Miguel de Cervantes Saavedra\");"
   ]
  },
  {
   "cell_type": "markdown",
   "metadata": {},
   "source": [
    "Y podemos llamar a los métodos:"
   ]
  },
  {
   "cell_type": "code",
   "execution_count": 5,
   "metadata": {},
   "outputs": [
    {
     "name": "stdout",
     "output_type": "stream",
     "text": [
      "Don Quijote de la Mancha - Miguel de Cervantes Saavedra\n",
      "La Galatea - Miguel de Cervantes Saavedra\n"
     ]
    }
   ],
   "source": [
    "// recuperamos los atributos de los libros y los mostramos por pantalla\n",
    "System.out.println(libro1.getTitulo() + \" - \" + libro1.getAutor());\n",
    "System.out.println(libro2.getTitulo() + \" - \" + libro2.getAutor());"
   ]
  },
  {
   "cell_type": "markdown",
   "metadata": {},
   "source": [
    "Los métodos pueden ser declarados como estáticos lo que significa que no requiere de una instancia para poder ejecutarse"
   ]
  },
  {
   "cell_type": "code",
   "execution_count": 6,
   "metadata": {},
   "outputs": [
    {
     "name": "stdout",
     "output_type": "stream",
     "text": [
      "No necesito una instancia para ejecutarme\n"
     ]
    }
   ],
   "source": [
    "System.out.println(Libro.metodoEstatico());"
   ]
  },
  {
   "cell_type": "markdown",
   "metadata": {},
   "source": [
    "En el siguiente ejemplo vemos un programa completo."
   ]
  },
  {
   "cell_type": "code",
   "execution_count": 7,
   "metadata": {},
   "outputs": [],
   "source": [
    "public class MiPrograma\n",
    "{\n",
    "    public static void main(String[] args)\n",
    "    {\n",
    "        //Creamos un animal cuyo nombré será Falco\n",
    "        Libro miLibro = new Libro(\"El viejo celoso\", \"Miguel de Cervantes\");\n",
    "        \n",
    "        //Mostraremos el titulo del libro por pantalla\n",
    "        System.out.println(\"El titulo es: \" + miLibro.getTitulo());\n",
    "    }\n",
    "}"
   ]
  },
  {
   "cell_type": "markdown",
   "metadata": {},
   "source": [
    "## Salida de datos\n",
    "Aunque Java proporciona numerosas librerías para guardar los logs en ficheros, la forma más sencilla es mostrarlo por pantalla la información."
   ]
  },
  {
   "cell_type": "code",
   "execution_count": 8,
   "metadata": {},
   "outputs": [
    {
     "name": "stdout",
     "output_type": "stream",
     "text": [
      "Hello World\n"
     ]
    }
   ],
   "source": [
    "System.out.println(\"Hello World\");"
   ]
  },
  {
   "cell_type": "markdown",
   "metadata": {},
   "source": [
    "## Paquetes\n",
    "Los paquetes en Java nos permiten agrupar los componentes de nuestra aplicación que estén relacionados entre si. El paquete se declara antes de cualquier otra cosa, es decir, es la primera línea de nuestro código en una clase, por ejemplo. A continuación, añadiremos los imports, clases, etc."
   ]
  },
  {
   "cell_type": "code",
   "execution_count": 9,
   "metadata": {},
   "outputs": [],
   "source": [
    "//package ejemplo.de.paquete;\n",
    "\n",
    "//public class mi_clase\n",
    "//{\n",
    "\n",
    "//}"
   ]
  },
  {
   "cell_type": "markdown",
   "metadata": {},
   "source": [
    "## Modificadores de acceso\n",
    "Los modificadores de acceso public, protected, default y private en Java nos proporcionan el encapsulamiento en Java que tiene como objetivo gestionar el acceso a los datos de una instancia. El modificador por defecto es default y permite el acceso a la clase como a las clases del mismo paquete. Si un atributo es privado, debemos crear los métodos set y get para poder manipular sus valores."
   ]
  },
  {
   "cell_type": "code",
   "execution_count": 10,
   "metadata": {},
   "outputs": [],
   "source": [
    "public class Revista\n",
    "{\n",
    "    private int numeroArticulos; //Este atributo es privado\n",
    "    private String titulo; //Contador de registro\n",
    "\n",
    "    public void setNumeroArticulos(int n)\n",
    "    {\n",
    "        numeroArticulos = n;//Establecemos el valor del atributo\n",
    "    }\n",
    "\n",
    "    public int getNumeroArticulos()\n",
    "    {\n",
    "        return numeroArticulos;//Retornamos el valor actual del atributo\n",
    "    }\n",
    "}"
   ]
  },
  {
   "cell_type": "markdown",
   "metadata": {},
   "source": [
    "## Variables y tipos de datos \n",
    "Una variable tiene un tipo específico y alberga un valor que puede ser inicializado y modificado durante la ejecución del programa en Java. En Java todas las variables tendrán un tipo de dato y un nombre de identificador."
   ]
  },
  {
   "cell_type": "code",
   "execution_count": 13,
   "metadata": {},
   "outputs": [],
   "source": [
    "int a, b, c; \n",
    "float pi; \n",
    "double d; \n",
    "char a;\n",
    "String cadena = \"Hola\";"
   ]
  },
  {
   "cell_type": "raw",
   "metadata": {},
   "source": [
    "En Java podemos tener variables estáticas que indica que solo se va a crear una vez aunque tengamos muchas instancias de esa clase."
   ]
  },
  {
   "cell_type": "code",
   "execution_count": 16,
   "metadata": {},
   "outputs": [
    {
     "name": "stdout",
     "output_type": "stream",
     "text": [
      "Número de puertas:4\n"
     ]
    }
   ],
   "source": [
    "class Coche {\n",
    "    public final static int numeroPuertas = 4;\n",
    "}\n",
    "\n",
    "System.out.println(\"Número de puertas:\" + Coche.numeroPuertas);\n"
   ]
  },
  {
   "cell_type": "markdown",
   "metadata": {},
   "source": [
    "## Condicionales\n",
    "En Java el operador condicional AND (todas las expresiones evaluadas igual true) es && y el OR (alguna de las expresiones igual a true) operador es ||. "
   ]
  },
  {
   "cell_type": "code",
   "execution_count": 17,
   "metadata": {},
   "outputs": [
    {
     "name": "stdout",
     "output_type": "stream",
     "text": [
      "Las dos variables mantienen sus valores iniciales\n",
      "Al menos una variable mantiene su valor inicial\n"
     ]
    }
   ],
   "source": [
    "int vble1 = 10;\n",
    "int vble2 = 20;\n",
    "\n",
    "if ((vble1 == 10) && (vble2 == 20))\n",
    "  System.out.println(\"Las dos variables mantienen sus valores iniciales\");\n",
    "\n",
    "if ((vble1 == 10) || (vble2 ==20))\n",
    "  System.out.println(\"Al menos una variable mantiene su valor inicial\");\n"
   ]
  },
  {
   "cell_type": "markdown",
   "metadata": {},
   "source": [
    "## Operador instanceof\n",
    "El operador instanceof es un operador especial para los objetos mediante el cual podemos comprobar si un objeto es de una clase concreta."
   ]
  },
  {
   "cell_type": "code",
   "execution_count": 18,
   "metadata": {},
   "outputs": [
    {
     "name": "stdout",
     "output_type": "stream",
     "text": [
      "Libro\n"
     ]
    }
   ],
   "source": [
    "if (libro1 instanceof Libro)\n",
    "  System.out.println(\"Libro\");"
   ]
  },
  {
   "cell_type": "markdown",
   "metadata": {},
   "source": [
    "## Sentencias de decisión\n",
    "Son sentencias que permiten tomar una decisión para ejecutar un bloque de instrucciones u otro. Las sentencias de decisión corresponden a: if-then-else y switch."
   ]
  },
  {
   "cell_type": "code",
   "execution_count": 19,
   "metadata": {},
   "outputs": [
    {
     "name": "stdout",
     "output_type": "stream",
     "text": [
      "El objeto es de tipo Libro\n"
     ]
    }
   ],
   "source": [
    "if (libro1 instanceof Libro) {\n",
    "  System.out.println(\"El objeto es de tipo Libro\");\n",
    "} else {\n",
    "  System.out.println(\"El objeto no es de tipo Libro\");\n",
    "}\n"
   ]
  },
  {
   "cell_type": "markdown",
   "metadata": {},
   "source": [
    "## Bucles\n",
    "Las sentencias de bucle permiten ejecutar un bloque de sentencias tantas veces como queramos hasta que se cumpla una condición."
   ]
  },
  {
   "cell_type": "code",
   "execution_count": 21,
   "metadata": {},
   "outputs": [
    {
     "name": "stdout",
     "output_type": "stream",
     "text": [
      "contador:0\n",
      "contador:1\n",
      "contador:2\n",
      "contador:3\n",
      "contador:4\n"
     ]
    }
   ],
   "source": [
    "int contador = 0;\n",
    "while (contador<5) {\n",
    "  System.out.println(\"contador:\" + contador);\n",
    "  contador++;\n",
    "}"
   ]
  },
  {
   "cell_type": "code",
   "execution_count": 23,
   "metadata": {},
   "outputs": [
    {
     "name": "stdout",
     "output_type": "stream",
     "text": [
      "contador:0\n",
      "contador:1\n",
      "contador:2\n",
      "contador:3\n",
      "contador:4\n"
     ]
    }
   ],
   "source": [
    "for(contador=0;contador<5;contador++){\n",
    "  System.out.println(\"contador:\" + contador);\n",
    "}"
   ]
  },
  {
   "cell_type": "markdown",
   "metadata": {},
   "source": [
    "## Funciones\n",
    "Java permite la definición de funciones para evitar el código duplicado. Java permite de forma sencilla llamar a las funciones, pasando los parámetros correspondientes."
   ]
  },
  {
   "cell_type": "code",
   "execution_count": 30,
   "metadata": {},
   "outputs": [
    {
     "name": "stdout",
     "output_type": "stream",
     "text": [
      "contador:0\n",
      "contador:1\n",
      "contador:2\n",
      "contador:3\n",
      "contador:4\n"
     ]
    }
   ],
   "source": [
    "void muestraContador(int max){\n",
    "  int i;\n",
    "  for(i=0;i<max;i++){\n",
    "    System.out.println(\"contador:\" + i);\n",
    "  }\n",
    "}\n",
    "\n",
    "muestraContador(5);"
   ]
  },
  {
   "cell_type": "markdown",
   "metadata": {},
   "source": [
    "## Arrays en Java\n",
    "Un array Java es una estructura de datos que permite almacenar un conjunto de datos de un mismo tipo. Es necesario declarar El tamaño de los arrays, no pudiendo cambiar en tiempo de ejecución."
   ]
  },
  {
   "cell_type": "code",
   "execution_count": 32,
   "metadata": {},
   "outputs": [
    {
     "name": "stdout",
     "output_type": "stream",
     "text": [
      "Accedemos al primer elemento:a\n"
     ]
    }
   ],
   "source": [
    "// Tenemos un array de 5 elementos.\n",
    "char lista[] = {'a','b','c','d','e'};\n",
    "System.out.println(\"Accedemos al primer elemento:\" + lista[0]);"
   ]
  }
 ],
 "metadata": {
  "kernelspec": {
   "display_name": "Java",
   "language": "java",
   "name": "java"
  },
  "language_info": {
   "codemirror_mode": "java",
   "file_extension": ".jshell",
   "mimetype": "text/x-java-source",
   "name": "Java",
   "pygments_lexer": "java",
   "version": "15-ea+16-681"
  }
 },
 "nbformat": 4,
 "nbformat_minor": 2
}
