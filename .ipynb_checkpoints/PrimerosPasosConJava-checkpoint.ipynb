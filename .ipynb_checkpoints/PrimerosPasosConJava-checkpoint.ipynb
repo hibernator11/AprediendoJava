{
 "cells": [
  {
   "cell_type": "markdown",
   "metadata": {},
   "source": [
    "<img src=\"images/logo_ua.jpg\" width=\"200\" style=\"float:left\">\n",
    "<img src=\"images/logo_dlsi.png\">"
   ]
  },
  {
   "cell_type": "markdown",
   "metadata": {},
   "source": [
    "# Primero pasos con Java"
   ]
  },
  {
   "cell_type": "markdown",
   "metadata": {},
   "source": [
    "Este tutorial se puede utilizar para comenzar a trabajar con Java como lenguaje de programación."
   ]
  },
  {
   "cell_type": "markdown",
   "metadata": {},
   "source": [
    "## Introducción"
   ]
  },
  {
   "cell_type": "markdown",
   "metadata": {},
   "source": [
    "Java es un lenguaje de programación más populares y nació en el año 1995 con Sun Microsystem y posteriormente fue adquirido por Oracle Corporation. Para su ejecución requiere de la máquina virtual que es independiente del sistema donde se esté ejecutando. [Más info](https://es.wikipedia.org/wiki/Java_(lenguaje_de_programaci%C3%B3n))"
   ]
  },
  {
   "cell_type": "code",
   "execution_count": 6,
   "metadata": {},
   "outputs": [
    {
     "name": "stdout",
     "output_type": "stream",
     "text": [
      "Hello World\n"
     ]
    }
   ],
   "source": [
    "System.out.println(\"Hello World\");"
   ]
  },
  {
   "cell_type": "markdown",
   "metadata": {},
   "source": [
    "## Variables y tipos de datos \n",
    "Una variable tiene un tipo específico y alberga un valor que puede ser inicializado y modificado durante la ejecución del programa en Java."
   ]
  },
  {
   "cell_type": "code",
   "execution_count": null,
   "metadata": {},
   "outputs": [],
   "source": [
    "int a, b, c; \n",
    "flotar pi; \n",
    "doble d; \n",
    "char a;"
   ]
  },
  {
   "cell_type": "markdown",
   "metadata": {},
   "source": [
    "## Clases en Java\n",
    "Una clase en Java comienza con la palabra reservada class y a continuación los atributos y métodos. La definición de una clase sigue la siguiente estructura:"
   ]
  },
  {
   "cell_type": "markdown",
   "metadata": {},
   "source": [
    "```java\n",
    "class <clase>  {\n",
    "   //declaración de atributos\n",
    "  [visibilidad] [modificadores] <tipo> <atributo> [= valor];\n",
    "  ...\n",
    "\n",
    "  //declaración de constructor\n",
    "  public <clase>(<argumentos>) {\n",
    "    <instrucciones>;\n",
    "  }\n",
    "\n",
    "  //declaración de métodos\n",
    "  [visibilidad] [modificadores] <tipo> <método>(<argumentos>) {\n",
    "    <instrucciones>;\n",
    "  }\n",
    "  ...\n",
    "}```"
   ]
  },
  {
   "cell_type": "code",
   "execution_count": 2,
   "metadata": {},
   "outputs": [],
   "source": [
    "class A { \n",
    "    public static void main (String args []){     \n",
    "          System.out.println (\"Hola mundo\");\n",
    "    }\n",
    "}"
   ]
  },
  {
   "cell_type": "code",
   "execution_count": 4,
   "metadata": {},
   "outputs": [],
   "source": [
    "A a = new A();"
   ]
  },
  {
   "cell_type": "code",
   "execution_count": null,
   "metadata": {},
   "outputs": [],
   "source": [
    "a."
   ]
  }
 ],
 "metadata": {
  "kernelspec": {
   "display_name": "Java",
   "language": "java",
   "name": "java"
  },
  "language_info": {
   "codemirror_mode": "java",
   "file_extension": ".jshell",
   "mimetype": "text/x-java-source",
   "name": "Java",
   "pygments_lexer": "java",
   "version": "15-ea+16-681"
  }
 },
 "nbformat": 4,
 "nbformat_minor": 2
}
